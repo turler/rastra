{
 "cells": [
  {
   "cell_type": "code",
   "execution_count": 8,
   "id": "6b215f0c",
   "metadata": {
    "scrolled": true
   },
   "outputs": [
    {
     "ename": "LoadError",
     "evalue": "cannot load such file -- httpx",
     "output_type": "error",
     "traceback": [
      "\u001b[31mLoadError\u001b[0m: cannot load such file -- httpx",
      "<internal:/home/minhdc/.rbenv/versions/3.0.4/lib/ruby/3.0.0/rubygems/core_ext/kernel_require.rb>:85:in `require'",
      "<internal:/home/minhdc/.rbenv/versions/3.0.4/lib/ruby/3.0.0/rubygems/core_ext/kernel_require.rb>:85:in `require'",
      "(irb):in `<top (required)>'"
     ]
    }
   ],
   "source": [
    "require \"httpx\"\n",
    "response = HTTPX.get(\"https://www.google.com\")"
   ]
  },
  {
   "cell_type": "code",
   "execution_count": null,
   "id": "c2fa6316",
   "metadata": {},
   "outputs": [],
   "source": []
  }
 ],
 "metadata": {
  "kernelspec": {
   "display_name": "Ruby 3.0.4",
   "language": "ruby",
   "name": "ruby"
  },
  "language_info": {
   "file_extension": ".rb",
   "mimetype": "application/x-ruby",
   "name": "ruby",
   "version": "3.0.4"
  }
 },
 "nbformat": 4,
 "nbformat_minor": 5
}
